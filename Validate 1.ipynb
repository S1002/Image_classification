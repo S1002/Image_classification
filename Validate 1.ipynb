{
 "cells": [
  {
   "cell_type": "code",
   "execution_count": 6,
   "metadata": {},
   "outputs": [],
   "source": [
    "import os\n",
    "from keras.preprocessing.image import img_to_array\n",
    "from keras.models import load_model\n",
    "import numpy as np\n",
    "import imutils\n",
    "import pickle\n",
    "import cv2\n",
    "from PIL import Image\n",
    "import shutil"
   ]
  },
  {
   "cell_type": "code",
   "execution_count": 8,
   "metadata": {},
   "outputs": [
    {
     "name": "stdout",
     "output_type": "stream",
     "text": [
      "0\n",
      "1\n",
      "2\n",
      "3\n",
      "4\n",
      "5\n",
      "6\n",
      "7\n",
      "8\n",
      "9\n",
      "10\n",
      "11\n",
      "12\n",
      "13\n",
      "14\n",
      "15\n",
      "16\n",
      "17\n",
      "18\n",
      "19\n",
      "20\n",
      "21\n",
      "22\n",
      "23\n",
      "23\n",
      "0\n"
     ]
    }
   ],
   "source": [
    "count=0\n",
    "valcount=0\n",
    "invalcount=0\n",
    "#model = load_model(\"D:/Project/Telent/Code/final_telent code/telent.model/saved_model\")\n",
    "#model = load_model('saved_model/my_model')\n",
    "model = load_model('E:/sample/new_model.h5')\n",
    "mlb = pickle.loads(open(\"mlb.pickle\", \"rb\").read())\n",
    "for file in os.listdir(\"E:/sample/dataset/jul/nonblur/\"):\n",
    "    if file.endswith(\".jpg\"):\n",
    "        filename=\"E:/sample/dataset/jul/nonblur/\"+file\n",
    "        #print(filename)\n",
    "        image = cv2.imread(filename)\n",
    "        output = image.copy()\n",
    "        image = cv2.resize(image, (96, 96))\n",
    "        image = image.astype(\"float\") / 255.0\n",
    "        image = img_to_array(image)\n",
    "        image = np.expand_dims(image, axis=0)\n",
    "        proba = model.predict(image)[0]\n",
    "        idxs = np.argsort(proba)[::-1][:1]\n",
    "        print(count)\n",
    "        for (i, j) in enumerate(idxs):\n",
    "        #    label = \"{}: {:.2f}%\".format(mlb.classes_[j], proba[j] * 100)  \n",
    "            if((proba[j]*100)>50):\n",
    "                if(mlb.classes_[j] == \"Valid image\"):\n",
    "                    valcount=valcount+1\n",
    "                    #print(mlb.classes_[j])\n",
    "                    #shutil.move(filename, \"D:/Project/Telent/Data/UAT/Finishonsite/images/Jan/Valid\")\n",
    "                else:\n",
    "                    invalcount=invalcount+1\n",
    "                    #print(mlb.classes_[j])\n",
    "                    #shutil.move(filename, \"D:/Project/Telent/Data/UAT/Finishonsite/images/Jan/Invalid\")\n",
    "\n",
    "                \n",
    "        count += 1\n",
    "print(count)\n",
    "print(valcount)\n",
    "print(invalcount)"
   ]
  },
  {
   "cell_type": "code",
   "execution_count": 9,
   "metadata": {},
   "outputs": [
    {
     "name": "stdout",
     "output_type": "stream",
     "text": [
      "Total file :23\n",
      "Valid files :23\n",
      "Invalid Files : 0\n"
     ]
    }
   ],
   "source": [
    "print(\"Total file :\" + str(count))\n",
    "print(\"Valid files :\" + str(valcount))\n",
    "print(\"Invalid Files : \" + str(invalcount))"
   ]
  },
  {
   "cell_type": "code",
   "execution_count": null,
   "metadata": {},
   "outputs": [],
   "source": []
  }
 ],
 "metadata": {
  "kernelspec": {
   "display_name": "Python 3 (ipykernel)",
   "language": "python",
   "name": "python3"
  },
  "language_info": {
   "codemirror_mode": {
    "name": "ipython",
    "version": 3
   },
   "file_extension": ".py",
   "mimetype": "text/x-python",
   "name": "python",
   "nbconvert_exporter": "python",
   "pygments_lexer": "ipython3",
   "version": "3.7.11"
  }
 },
 "nbformat": 4,
 "nbformat_minor": 4
}
