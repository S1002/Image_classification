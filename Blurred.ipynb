{
 "cells": [
  {
   "cell_type": "code",
   "execution_count": 18,
   "metadata": {},
   "outputs": [],
   "source": [
    "from imutils import paths\n",
    "import argparse\n",
    "import cv2\n",
    "import os\n",
    "import numpy as np\n",
    "from PIL import Image\n",
    "import shutil\n",
    "import time\n",
    "import keyboard \n",
    "def variance_of_laplacian(image):\n",
    "\t# compute the Laplacian of the image and then return the focus\n",
    "\t# measure, which is simply the variance of the Laplacian\n",
    "\treturn cv2.Laplacian(image, cv2.CV_64F).var()\n",
    "    #return cv2.Laplacian(image, -1).var()\n",
    "#image = cv2.imread(r'D:\\Project\\Telent\\Data\\UAT\\Finishonsite\\images\\Jan\\Valid\\00bbaf26-13e0-4831-9906-ab5200de82e9.jpg')\n"
   ]
  },
  {
   "cell_type": "code",
   "execution_count": 19,
   "metadata": {},
   "outputs": [],
   "source": [
    "count=0\n",
    "#model = load_model(\"D:/Project/Telent/Code/final_telent code/telent.model/saved_model\")\n",
    "for file in os.listdir(\"E:/sample/dataset/jul/Valid/\"):\n",
    "    if file.endswith(\".jpg\"):\n",
    "        filename=\"E:/sample/dataset/jul/Valid/\"+file\n",
    "        #print(filename)\n",
    "        image = cv2.imread(filename)\n",
    "        gray = cv2.cvtColor(image, cv2.COLOR_BGR2GRAY)\n",
    "        fm = variance_of_laplacian(gray)\n",
    "        text = \"Not Blurry\"\n",
    "        # if the focus measure is less than the supplied threshold,\n",
    "        # then the image should be considered \"blurry\"\n",
    "        if fm < 700.0:\n",
    "            text = \"Blurry\"\n",
    "            # show the image\n",
    "            cv2.putText(image, \"{}: {:.2f}\".format(text, fm), (10, 30),\n",
    "                cv2.FONT_HERSHEY_SIMPLEX, 0.8, (0, 0, 255), 3)\n",
    "            while(1):\n",
    "                cv2.imshow(\"Image\", image)\n",
    "                k = cv2.waitKey(33)\n",
    "                if k==65:    # Esc key to stop\n",
    "                    #print(filename)\n",
    "                    shutil.move(filename, \"E:/sample/dataset/jul/blur/\")\n",
    "                    break\n",
    "                elif k==-1:  # normally -1 returned,so don't print it\n",
    "                    #time.sleep(3)\n",
    "                    #break\n",
    "                    continue\n",
    "                else:\n",
    "                    #print(k) # else print its value\n",
    "                    shutil.move(filename, \"E:/sample/dataset/jul/nonblur/\")\n",
    "                    break\n",
    "            cv2.destroyAllWindows()\n",
    "            count=count+1\n",
    "            print(count)\n",
    "        else:\n",
    "            shutil.move(filename, \"E:/sample/dataset/jul/nonblur/\")\n",
    "            "
   ]
  },
  {
   "cell_type": "code",
   "execution_count": 13,
   "metadata": {},
   "outputs": [
    {
     "data": {
      "text/plain": [
       "1"
      ]
     },
     "execution_count": 13,
     "metadata": {},
     "output_type": "execute_result"
    }
   ],
   "source": [
    "count"
   ]
  },
  {
   "cell_type": "code",
   "execution_count": 14,
   "metadata": {},
   "outputs": [
    {
     "name": "stdout",
     "output_type": "stream",
     "text": [
      "1\n",
      "2\n",
      "3\n",
      "4\n",
      "5\n",
      "6\n",
      "7\n",
      "8\n",
      "9\n",
      "10\n",
      "11\n",
      "12\n",
      "13\n",
      "14\n",
      "15\n",
      "16\n",
      "17\n",
      "18\n",
      "19\n",
      "20\n",
      "21\n",
      "22\n",
      "23\n"
     ]
    }
   ],
   "source": [
    "count=0\n",
    "count1=0\n",
    "#model = load_model(\"D:/Project/Telent/Code/final_telent code/telent.model/saved_model\")\n",
    "for file in os.listdir(r\"E:/sample/dataset/jul/nonblur\"):\n",
    "    if file.endswith(\".jpg\"):\n",
    "        filename=\"E:/sample/dataset/jul/nonblur/\"+file\n",
    "        #print(filename)\n",
    "        image = cv2.imread(filename)\n",
    "        gray = cv2.cvtColor(image, cv2.COLOR_BGR2GRAY)\n",
    "        fm = variance_of_laplacian(gray)\n",
    "        #text = \"Not Blurry\"\n",
    "        # if the focus measure is less than the supplied threshold,\n",
    "        # then the image should be considered \"blurry\"\n",
    "        if fm < 700.0:\n",
    "            \n",
    "            #text = \"Blurry\"\n",
    "            # show the image\n",
    "            #cv2.putText(image, \"{}: {:.2f}\".format(text, fm), (10, 30),\n",
    "            #    cv2.FONT_HERSHEY_SIMPLEX, 0.8, (0, 0, 255), 3)\n",
    "            #cv2.imshow(file, image)\n",
    "            #cv2.waitKey()\n",
    "            #cv2.destroyAllWindows()\n",
    "            count=count+1\n",
    "        count1=count1+1\n",
    "        print(count1)            "
   ]
  },
  {
   "cell_type": "code",
   "execution_count": 15,
   "metadata": {},
   "outputs": [
    {
     "data": {
      "text/plain": [
       "0"
      ]
     },
     "execution_count": 15,
     "metadata": {},
     "output_type": "execute_result"
    }
   ],
   "source": [
    "count"
   ]
  },
  {
   "cell_type": "code",
   "execution_count": null,
   "metadata": {},
   "outputs": [],
   "source": []
  }
 ],
 "metadata": {
  "kernelspec": {
   "display_name": "Python 3 (ipykernel)",
   "language": "python",
   "name": "python3"
  },
  "language_info": {
   "codemirror_mode": {
    "name": "ipython",
    "version": 3
   },
   "file_extension": ".py",
   "mimetype": "text/x-python",
   "name": "python",
   "nbconvert_exporter": "python",
   "pygments_lexer": "ipython3",
   "version": "3.7.11"
  }
 },
 "nbformat": 4,
 "nbformat_minor": 4
}
